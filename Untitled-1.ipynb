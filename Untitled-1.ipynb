# BONUS 5: Scrivi un codice che crei 20 liste con list comprehension fatte in questo modo:
# [numeroVittorie, numeroPareggi, numeroSconfitte]
# con ciascun valore estratto a sorte tra 0 e 10
# Sviluppa poi un algoritmo per ordinare queste 20 liste trovando il primo, secondo e terzo posto
import random

# con la funzione "generatore_di_risultati" crea una lista di liste di risultati randomici
def generatore_di_risultati():
    # Genera 20 liste con valori casuali tra 0 e 10 per numeroVittorie, numeroPareggi e numeroSconfitte
    liste_partite = [[random.randint(0, 10), random.randint(0, 10), random.randint(0, 10)] for _ in range(20)]
    return liste_partite

# con la funzione "stampa_risultati" i valori preseti in una lista di liste
def stampa_risultati(liste_partite):
  for lista in liste_partite:
    print(lista)
    
#main
lista_risultati= generatore_di_risultati()


stampa_risultati(lista_risultati)
print(f"\n{lista_risultati[0][0]} {lista_risultati[0][1]} {lista_risultati[0][2]}")

def ordinamento_lista_di_liste(lista_risultati):

    lista_ordinata=[]
    primoPosto = lista_risultati[0]
    secondoPosto = lista_risultati[0]
    terzoPosto = lista_risultati[0]

    for giocatore in lista_risultati:
        print(f"{giocatore}")
        # if giocatore[0] > primoPosto[0]:
        #     primoPosto = giocatore
        # elif giocatore[1] == primoPosto[1]:
        #     if giocatore[3] < primoPosto[3]:
        #         primoPosto = giocatore
        #     elif giocatore[3] == primoPosto[3]:
        #         if giocatore[2] < primoPosto[2]:
        #             primoPosto = giocatore
                    
    for x in range (20):
        
        