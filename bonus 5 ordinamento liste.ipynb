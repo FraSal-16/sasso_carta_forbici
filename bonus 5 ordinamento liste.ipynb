{
 "cells": [
  {
   "cell_type": "code",
   "execution_count": null,
   "metadata": {},
   "outputs": [],
   "source": [
    "# BONUS 5: Scrivi un codice che crei 20 liste con list comprehension fatte in questo modo:\n",
    "# [numeroVittorie, numeroPareggi, numeroSconfitte]\n",
    "# con ciascun valore estratto a sorte tra 0 e 10\n",
    "# Sviluppa poi un algoritmo per ordinare queste 20 liste trovando il primo, secondo e terzo posto\n",
    "import random\n",
    "import copy\n",
    "\n",
    "# con la funzione \"generatore_di_risultati\" crea una lista di liste di risultati randomici\n",
    "def generatore_di_risultati():\n",
    "    # Genera 20 liste con valori casuali tra 0 e 10 per numeroVittorie, numeroPareggi e numeroSconfitte\n",
    "    liste_partite = [[random.randint(0, 10), random.randint(0, 10), random.randint(0, 10)] for _ in range(20)]\n",
    "\n",
    "    return liste_partite\n",
    "\n",
    "\n",
    "# con la funzione \"stampa_risultati\" i valori preseti in una lista di liste\n",
    "def stampa_risultati(liste_partite):\n",
    "  for lista in liste_partite:\n",
    "    print(lista)\n",
    "    \n",
    "    \n",
    "    \n",
    "def ordinamento_lista_di_liste(lista_risultati):\n",
    "\n",
    "    appoggio=copy.copy(lista_risultati)\n",
    "    lista_ordinata=[]\n",
    "    lunghezza_lista= len(lista_risultati)\n",
    "        \n",
    "    \n",
    "    \n",
    "\n",
    "    while len(lista_ordinata) < lunghezza_lista:\n",
    "        primoPosto = appoggio[0]\n",
    "        for risultato in appoggio:\n",
    "            if risultato[0] > primoPosto[0]:\n",
    "                primoPosto = risultato\n",
    "            elif risultato[0] == primoPosto[0]:\n",
    "                if risultato[2] < primoPosto[2]:\n",
    "                    primoPosto = risultato\n",
    "                elif risultato[2] == primoPosto[2]:\n",
    "                    if risultato[1] < primoPosto[1]:\n",
    "                        primoPosto = risultato\n",
    "        lista_ordinata.append(primoPosto)\n",
    "        appoggio.remove(primoPosto)                \n",
    "                                    \n",
    "    return lista_ordinata\n",
    "\n",
    "       \n",
    "#main\n",
    "lista_risultati= generatore_di_risultati()\n",
    "lista_ordinata= ordinamento_lista_di_liste(lista_risultati)\n",
    "\n",
    "stampa_risultati(lista_risultati)\n",
    "#print(f\"\\n{lista_risultati[0][0]} {lista_risultati[0][1]} {lista_risultati[0][2]}\")\n",
    "\n",
    "\n"
   ]
  },
  {
   "cell_type": "code",
   "execution_count": null,
   "metadata": {},
   "outputs": [],
   "source": [
    "stampa_risultati(lista_ordinata)\n",
    "#print(f\"\\n{lista_risultati[0][0]} {lista_risultati[0][1]} {lista_risultati[0][2]}\")"
   ]
  },
  {
   "cell_type": "code",
   "execution_count": 74,
   "metadata": {},
   "outputs": [
    {
     "name": "stdout",
     "output_type": "stream",
     "text": [
      "[[10, 7, 7], [9, 10, 10], [9, 9, 3], [9, 8, 10], [9, 2, 7], [9, 2, 1], [8, 8, 1], [8, 7, 9], [8, 0, 10], [7, 10, 2], [7, 8, 5], [7, 8, 2], [7, 7, 10], [7, 6, 6], [7, 2, 2], [6, 8, 6], [4, 5, 4], [3, 6, 9], [2, 4, 1], [0, 8, 9]]\n"
     ]
    }
   ],
   "source": [
    "\n",
    "liste_partite = [[random.randint(0, 10), random.randint(0, 10), random.randint(0, 10)] for _ in range(20)]\n",
    "vittorie=liste_partite[0][0]\n",
    "sconfitte=liste_partite[0][2]\n",
    "pareggi=liste_partite[0][1]\n",
    "def ordinamento():\n",
    "    sconfitte, pareggi, vittorie\n",
    "    \n",
    "liste_partite.sort(key=ordinamento(),reverse=True)\n",
    "print(liste_partite)\n"
   ]
  }
 ],
 "metadata": {
  "kernelspec": {
   "display_name": "Python 3",
   "language": "python",
   "name": "python3"
  },
  "language_info": {
   "codemirror_mode": {
    "name": "ipython",
    "version": 3
   },
   "file_extension": ".py",
   "mimetype": "text/x-python",
   "name": "python",
   "nbconvert_exporter": "python",
   "pygments_lexer": "ipython3",
   "version": "3.12.4"
  }
 },
 "nbformat": 4,
 "nbformat_minor": 2
}
