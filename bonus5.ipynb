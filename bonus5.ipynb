{
 "cells": [
  {
   "cell_type": "code",
   "execution_count": null,
   "metadata": {},
   "outputs": [],
   "source": [
    "# BONUS 5: Scrivi un codice che crei 20 liste con list comprehension fatte in questo modo:\n",
    "# [numeroVittorie, numeroPareggi, numeroSconfitte]\n",
    "# con ciascun valore estratto a sorte tra 0 e 10\n",
    "# Sviluppa poi un algoritmo per ordinare queste 20 liste trovando il primo, secondo e terzo posto"
   ]
  }
 ],
 "metadata": {
  "language_info": {
   "name": "python"
  }
 },
 "nbformat": 4,
 "nbformat_minor": 2
}
